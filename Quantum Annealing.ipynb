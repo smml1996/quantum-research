{
 "cells": [
  {
   "cell_type": "markdown",
   "metadata": {},
   "source": [
    "# Solving Graph Coloring (Quantum Annealing)"
   ]
  },
  {
   "cell_type": "code",
   "execution_count": 2,
   "metadata": {},
   "outputs": [],
   "source": [
    "import dwavebinarycsp\n",
    "from dwave.system.samplers import DWaveSampler\n",
    "from dwave.system.composites import EmbeddingComposite\n",
    "import networkx as nx\n",
    "import matplotlib.pyplot as plt\n",
    "from dwave.cloud import Client\n",
    "import neal\n",
    "import time\n",
    "import numpy as np\n",
    "import pandas as pd"
   ]
  },
  {
   "cell_type": "markdown",
   "metadata": {},
   "source": [
    "## Processing the graph "
   ]
  },
  {
   "cell_type": "code",
   "execution_count": 3,
   "metadata": {},
   "outputs": [],
   "source": [
    "def read_graph(name):\n",
    "    num_vertices = 0\n",
    "    num_edges = 0 \n",
    "    list_edges = []\n",
    "    file = open(\"data/\" + name , \"r\")\n",
    "    for line in file:\n",
    "        tokens = line.split()\n",
    "        if(tokens[0] == \"c\"):\n",
    "            #this line is a comment\n",
    "            continue\n",
    "        elif(tokens[0] == \"p\"and tokens[1] == \"edge\"):\n",
    "            # save number of vertices and edges\n",
    "            num_vertices = tokens[2]\n",
    "            num_edges = tokens[3]\n",
    "        else:\n",
    "            # this is a line describing an edge\n",
    "            temp = (tokens[1], tokens[2])\n",
    "            list_edges.append(temp)\n",
    "    file.close()\n",
    "    return int(num_vertices), int(num_edges), list_edges\n",
    "    "
   ]
  },
  {
   "cell_type": "code",
   "execution_count": 4,
   "metadata": {},
   "outputs": [],
   "source": [
    "def plotDictionary(dictionary):\n",
    "    heights = []\n",
    "    bars = []\n",
    "    for i in dictionary:\n",
    "        heights.append(int(i['num_occurrences']))\n",
    "        bars.append(i['id'])\n",
    "    y_pos = np.arange(len(bars))\n",
    "    plt.bar(y_pos, heights)\n",
    "    plt.xticks(y_pos, bars)\n",
    "    plt.ylabel('num_ocurrences')\n",
    "    plt.xlabel('id')\n",
    "    plt.show()"
   ]
  },
  {
   "cell_type": "code",
   "execution_count": 5,
   "metadata": {},
   "outputs": [],
   "source": [
    "def plot_table(dictionary):\n",
    "    return pd.DataFrame.from_dict(dictionary)"
   ]
  },
  {
   "cell_type": "markdown",
   "metadata": {},
   "source": [
    "## Quantum Annealing"
   ]
  },
  {
   "cell_type": "code",
   "execution_count": 60,
   "metadata": {},
   "outputs": [],
   "source": [
    "def isSampleInSamples(s, count):\n",
    "    for i in range(len(count)):\n",
    "        if (count[i]['energy']== s.energy):\n",
    "            count[i]['num_occurrences']+= s.num_occurrences\n",
    "            return True\n",
    "    return False"
   ]
  },
  {
   "cell_type": "code",
   "execution_count": 7,
   "metadata": {},
   "outputs": [],
   "source": [
    "def try_k_coloring(k_colors, graph_name, is_simulated = False):\n",
    "    print(\"processing \", graph_name, \"... \")\n",
    "    num_vertices, num_edges, list_edges = read_graph(graph_name)\n",
    "    vertices = [str(i+1) for i in range(num_vertices)]\n",
    "    csp = dwavebinarycsp.ConstraintSatisfactionProblem(dwavebinarycsp.BINARY)\n",
    "    one_color_configurations = set()\n",
    "\n",
    "    def not_same_color(v1, v2):\n",
    "        #constraint: not to adyacent nodes share same color\n",
    "        return not (v1 and v2)\n",
    "\n",
    "    for i in range(k_colors):\n",
    "        one_color_configurations.add(tuple(1 if i == j else 0 for j in range(k_colors)))\n",
    "\n",
    "    #constraint: just one color per vertex\n",
    "    for vertex in vertices:\n",
    "        variables = [vertex+\"c\"+str(i) for i in range(k_colors)]\n",
    "        csp.add_constraint(one_color_configurations, variables)\n",
    "\n",
    "    for edge in list_edges:\n",
    "        v1, v2 = edge\n",
    "        for i in range(k_colors):\n",
    "            variables = [str(v1)+\"c\"+ str(i), str(v2)+\"c\" + str(i)]\n",
    "            csp.add_constraint(not_same_color, variables)\n",
    "\n",
    "    def plot_map(self):\n",
    "        G = nx.Graph()\n",
    "        G.add_nodes_from(vertices)\n",
    "        G.add_edges_from(list_edges)\n",
    "        # Translate from binary to integer color representation\n",
    "        color_map = {}\n",
    "        for province in vertices:\n",
    "              for i in range(k_colors):\n",
    "                if sample[province+\"c\"+str(i)]:\n",
    "                    color_map[province] = i\n",
    "        # Plot the sample with color-coded nodes\n",
    "        node_colors = [color_map.get(node) for node in G.nodes()]\n",
    "        nx.draw_circular(G, with_labels=True, node_color=node_colors, node_size=3000, cmap=plt.cm.rainbow)\n",
    "        plt.show()\n",
    "    \n",
    "    bqm = dwavebinarycsp.stitch(csp)\n",
    "    counts = []\n",
    "    idSample = 0\n",
    "    if not is_simulated:\n",
    "        client_qpu = Client.from_config()   \n",
    "        client_cpu = Client.from_config(profile='prod') \n",
    "        \n",
    "        # Set up a solver using the local system’s default D-Wave Cloud Client configuration file\n",
    "        # and sample 50 times\n",
    "        sampler = EmbeddingComposite(DWaveSampler())         # doctest: +SKIP\n",
    "        start_time = time.time()\n",
    "        response = sampler.sample(bqm, num_reads=1024)         # doctest: +SKIP\n",
    "        elapsed_time = time.time() - start_time\n",
    "        for s in response.data():\n",
    "            if not isSampleInSamples(s, counts):\n",
    "                counts.append({'id': idSample,'sample':s.sample, 'num_occurrences':s.num_occurrences, 'energy':s.energy})\n",
    "                idSample+=1\n",
    "\n",
    "        # Plot the lowest-energy sample if it meets the constraints\n",
    "\n",
    "        sample = next(response.samples())      # doctest: +SKIP\n",
    "        if not csp.check(sample):              # doctest: +SKIP\n",
    "            print(\"Failed to color map\")\n",
    "        else:\n",
    "            plot_map(sample)\n",
    "        print(\"execution time: \", elapsed_time)\n",
    "        return counts,response\n",
    "    else:\n",
    "        sampler = neal.SimulatedAnnealingSampler()\n",
    "        start_time = time.time()\n",
    "        response = sampler.sample(bqm, num_reads=1024)\n",
    "        elapsed_time = time.time() - start_time\n",
    "        sample = next(response.samples())      # doctest: +SKIP\n",
    "\n",
    "        for s in response.data():\n",
    "            \n",
    "            if not isSampleInSamples(s, counts):\n",
    "                counts.append({'id': idSample,'sample':s.sample, 'num_occurrences':s.num_occurrences, 'energy':s.energy})\n",
    "                idSample+=1\n",
    "                \n",
    "        if not csp.check(sample):              # doctest: +SKIP\n",
    "            print(\"Failed to color map\")\n",
    "        else:\n",
    "            plot_map(sample)\n",
    "        print(\"execution time: \", elapsed_time)\n",
    "        return counts, response"
   ]
  },
  {
   "cell_type": "markdown",
   "metadata": {},
   "source": [
    "# Test 1"
   ]
  },
  {
   "cell_type": "markdown",
   "metadata": {},
   "source": [
    "## Quantum Computer Results"
   ]
  },
  {
   "cell_type": "code",
   "execution_count": 155,
   "metadata": {},
   "outputs": [
    {
     "name": "stdout",
     "output_type": "stream",
     "text": [
      "processing  graph1.txt ... \n"
     ]
    },
    {
     "data": {
      "image/png": "[encoded data removed]",
      "text/plain": [
       "<Figure size 432x288 with 1 Axes>"
      ]
     },
     "metadata": {},
     "output_type": "display_data"
    },
    {
     "name": "stdout",
     "output_type": "stream",
     "text": [
      "execution time:  2.8488409519195557\n"
     ]
    }
   ],
   "source": [
    "answer = try_k_coloring(1, \"graph1.txt\")"
   ]
  },
  {
   "cell_type": "code",
   "execution_count": 156,
   "metadata": {},
   "outputs": [
    {
     "data": {
      "image/png": "[encoded data removed]",
      "text/plain": [
       "<Figure size 432x288 with 1 Axes>"
      ]
     },
     "metadata": {
      "needs_background": "light"
     },
     "output_type": "display_data"
    }
   ],
   "source": [
    "plotDictionary(answer)"
   ]
  },
  {
   "cell_type": "code",
   "execution_count": 40,
   "metadata": {},
   "outputs": [
    {
     "data": {
      "text/plain": [
       "SampleSet(rec.array([([1, 1], -2., 1024, 0.)],\n",
       "          dtype=[('sample', 'i1', (2,)), ('energy', '<f8'), ('num_occurrences', '<i8'), ('chain_break_fraction', '<f8')]), ['1c0', '2c0'], {'timing': {'qpu_sampling_time': 167895, 'qpu_anneal_time_per_sample': 20, 'qpu_readout_time_per_sample': 123, 'qpu_access_time': 175422, 'qpu_access_overhead_time': 1293, 'qpu_programming_time': 7527, 'qpu_delay_time_per_sample': 21, 'total_post_processing_time': 967, 'post_processing_overhead_time': 967, 'total_real_time': 175422, 'run_time_chip': 167895, 'anneal_time_per_run': 20, 'readout_time_per_run': 123}}, 'BINARY')"
      ]
     },
     "execution_count": 40,
     "metadata": {},
     "output_type": "execute_result"
    }
   ],
   "source": [
    "answer[1]"
   ]
  },
  {
   "cell_type": "markdown",
   "metadata": {},
   "source": [
    "## Simulator Results"
   ]
  },
  {
   "cell_type": "code",
   "execution_count": 11,
   "metadata": {},
   "outputs": [
    {
     "name": "stdout",
     "output_type": "stream",
     "text": [
      "processing  graph1.txt ... \n"
     ]
    },
    {
     "data": {
      "image/png": "[encoded data removed]",
      "text/plain": [
       "<Figure size 432x288 with 1 Axes>"
      ]
     },
     "metadata": {},
     "output_type": "display_data"
    },
    {
     "name": "stdout",
     "output_type": "stream",
     "text": [
      "execution time:  0.035592079162597656\n"
     ]
    }
   ],
   "source": [
    "answer2 = try_k_coloring(1, \"graph1.txt\", True)"
   ]
  },
  {
   "cell_type": "code",
   "execution_count": 12,
   "metadata": {},
   "outputs": [
    {
     "data": {
      "text/plain": [
       "[{'id': 0,\n",
       "  'sample': {'1c0': 1, '2c0': 1},\n",
       "  'num_occurrences': 1024,\n",
       "  'energy': -2.0}]"
      ]
     },
     "execution_count": 12,
     "metadata": {},
     "output_type": "execute_result"
    }
   ],
   "source": [
    "answer2[0]"
   ]
  },
  {
   "cell_type": "markdown",
   "metadata": {},
   "source": [
    "# Test 2"
   ]
  },
  {
   "cell_type": "markdown",
   "metadata": {},
   "source": [
    "## 1-color test (simulator)"
   ]
  },
  {
   "cell_type": "code",
   "execution_count": 165,
   "metadata": {},
   "outputs": [
    {
     "name": "stdout",
     "output_type": "stream",
     "text": [
      "processing  graph2.txt ... \n",
      "Failed to color map\n",
      "execution time:  0.023420095443725586\n"
     ]
    }
   ],
   "source": [
    "answer2 = try_k_coloring(1, \"graph2.txt\", True)"
   ]
  },
  {
   "cell_type": "code",
   "execution_count": 160,
   "metadata": {},
   "outputs": [
    {
     "data": {
      "image/png": "[encoded data removed]",
      "text/plain": [
       "<Figure size 432x288 with 1 Axes>"
      ]
     },
     "metadata": {
      "needs_background": "light"
     },
     "output_type": "display_data"
    }
   ],
   "source": [
    "plotDictionary(answer2)"
   ]
  },
  {
   "cell_type": "code",
   "execution_count": 162,
   "metadata": {},
   "outputs": [
    {
     "data": {
      "text/html": [
       "<div>\n",
       "<style scoped>\n",
       "    .dataframe tbody tr th:only-of-type {\n",
       "        vertical-align: middle;\n",
       "    }\n",
       "\n",
       "    .dataframe tbody tr th {\n",
       "        vertical-align: top;\n",
       "    }\n",
       "\n",
       "    .dataframe thead th {\n",
       "        text-align: right;\n",
       "    }\n",
       "</style>\n",
       "<table border=\"1\" class=\"dataframe\">\n",
       "  <thead>\n",
       "    <tr style=\"text-align: right;\">\n",
       "      <th></th>\n",
       "      <th>energy</th>\n",
       "      <th>id</th>\n",
       "      <th>num_occurrences</th>\n",
       "      <th>sample</th>\n",
       "    </tr>\n",
       "  </thead>\n",
       "  <tbody>\n",
       "    <tr>\n",
       "      <th>0</th>\n",
       "      <td>0.0</td>\n",
       "      <td>0</td>\n",
       "      <td>335</td>\n",
       "      <td>{'1c0': 0, '2c0': 1}</td>\n",
       "    </tr>\n",
       "    <tr>\n",
       "      <th>1</th>\n",
       "      <td>0.0</td>\n",
       "      <td>1</td>\n",
       "      <td>347</td>\n",
       "      <td>{'1c0': 1, '2c0': 0}</td>\n",
       "    </tr>\n",
       "    <tr>\n",
       "      <th>2</th>\n",
       "      <td>0.0</td>\n",
       "      <td>2</td>\n",
       "      <td>342</td>\n",
       "      <td>{'1c0': 1, '2c0': 1}</td>\n",
       "    </tr>\n",
       "  </tbody>\n",
       "</table>\n",
       "</div>"
      ],
      "text/plain": [
       "   energy  id  num_occurrences                sample\n",
       "0     0.0   0              335  {'1c0': 0, '2c0': 1}\n",
       "1     0.0   1              347  {'1c0': 1, '2c0': 0}\n",
       "2     0.0   2              342  {'1c0': 1, '2c0': 1}"
      ]
     },
     "execution_count": 162,
     "metadata": {},
     "output_type": "execute_result"
    }
   ],
   "source": [
    "plot_table(answer2)"
   ]
  },
  {
   "cell_type": "markdown",
   "metadata": {},
   "source": [
    "## 2-color"
   ]
  },
  {
   "cell_type": "markdown",
   "metadata": {},
   "source": [
    "## Quantum Computer Results"
   ]
  },
  {
   "cell_type": "code",
   "execution_count": 166,
   "metadata": {},
   "outputs": [
    {
     "name": "stdout",
     "output_type": "stream",
     "text": [
      "processing  graph2.txt ... \n"
     ]
    },
    {
     "name": "stderr",
     "output_type": "stream",
     "text": [
      "/anaconda3/lib/python3.6/site-packages/networkx/drawing/nx_pylab.py:611: MatplotlibDeprecationWarning: isinstance(..., numbers.Number)\n",
      "  if cb.is_numlike(alpha):\n"
     ]
    },
    {
     "data": {
      "image/png": "[encoded data removed]",
      "text/plain": [
       "<Figure size 432x288 with 1 Axes>"
      ]
     },
     "metadata": {},
     "output_type": "display_data"
    },
    {
     "name": "stdout",
     "output_type": "stream",
     "text": [
      "execution time:  2.126063823699951\n"
     ]
    }
   ],
   "source": [
    "answer2 = try_k_coloring(2, \"graph2.txt\")"
   ]
  },
  {
   "cell_type": "code",
   "execution_count": 45,
   "metadata": {},
   "outputs": [
    {
     "data": {
      "text/plain": [
       "SampleSet(rec.array([([0, 1, 1, 0], -2., 508, 0.), ([1, 0, 0, 1], -2., 516, 0.)],\n",
       "          dtype=[('sample', 'i1', (4,)), ('energy', '<f8'), ('num_occurrences', '<i8'), ('chain_break_fraction', '<f8')]), ['1c0', '1c1', '2c0', '2c1'], {'timing': {'qpu_sampling_time': 167895, 'qpu_anneal_time_per_sample': 20, 'qpu_readout_time_per_sample': 123, 'qpu_access_time': 175433, 'qpu_access_overhead_time': 2304, 'qpu_programming_time': 7538, 'qpu_delay_time_per_sample': 21, 'total_post_processing_time': 330, 'post_processing_overhead_time': 330, 'total_real_time': 175433, 'run_time_chip': 167895, 'anneal_time_per_run': 20, 'readout_time_per_run': 123}}, 'BINARY')"
      ]
     },
     "execution_count": 45,
     "metadata": {},
     "output_type": "execute_result"
    }
   ],
   "source": [
    "answer2[1]"
   ]
  },
  {
   "cell_type": "code",
   "execution_count": 167,
   "metadata": {},
   "outputs": [
    {
     "data": {
      "image/png": "[encoded data removed]",
      "text/plain": [
       "<Figure size 432x288 with 1 Axes>"
      ]
     },
     "metadata": {
      "needs_background": "light"
     },
     "output_type": "display_data"
    }
   ],
   "source": [
    "plotDictionary(answer2)"
   ]
  },
  {
   "cell_type": "code",
   "execution_count": 168,
   "metadata": {},
   "outputs": [
    {
     "data": {
      "text/html": [
       "<div>\n",
       "<style scoped>\n",
       "    .dataframe tbody tr th:only-of-type {\n",
       "        vertical-align: middle;\n",
       "    }\n",
       "\n",
       "    .dataframe tbody tr th {\n",
       "        vertical-align: top;\n",
       "    }\n",
       "\n",
       "    .dataframe thead th {\n",
       "        text-align: right;\n",
       "    }\n",
       "</style>\n",
       "<table border=\"1\" class=\"dataframe\">\n",
       "  <thead>\n",
       "    <tr style=\"text-align: right;\">\n",
       "      <th></th>\n",
       "      <th>energy</th>\n",
       "      <th>id</th>\n",
       "      <th>num_occurrences</th>\n",
       "      <th>sample</th>\n",
       "    </tr>\n",
       "  </thead>\n",
       "  <tbody>\n",
       "    <tr>\n",
       "      <th>0</th>\n",
       "      <td>-2.0</td>\n",
       "      <td>0</td>\n",
       "      <td>458</td>\n",
       "      <td>{'1c0': 1, '1c1': 0, '2c0': 0, '2c1': 1}</td>\n",
       "    </tr>\n",
       "    <tr>\n",
       "      <th>1</th>\n",
       "      <td>-2.0</td>\n",
       "      <td>1</td>\n",
       "      <td>566</td>\n",
       "      <td>{'1c0': 0, '1c1': 1, '2c0': 1, '2c1': 0}</td>\n",
       "    </tr>\n",
       "  </tbody>\n",
       "</table>\n",
       "</div>"
      ],
      "text/plain": [
       "   energy  id  num_occurrences                                    sample\n",
       "0    -2.0   0              458  {'1c0': 1, '1c1': 0, '2c0': 0, '2c1': 1}\n",
       "1    -2.0   1              566  {'1c0': 0, '1c1': 1, '2c0': 1, '2c1': 0}"
      ]
     },
     "execution_count": 168,
     "metadata": {},
     "output_type": "execute_result"
    }
   ],
   "source": [
    "plot_table(answer2)"
   ]
  },
  {
   "cell_type": "markdown",
   "metadata": {},
   "source": [
    "## Simulator Results"
   ]
  },
  {
   "cell_type": "code",
   "execution_count": 13,
   "metadata": {},
   "outputs": [
    {
     "name": "stdout",
     "output_type": "stream",
     "text": [
      "processing  graph2.txt ... \n"
     ]
    },
    {
     "name": "stderr",
     "output_type": "stream",
     "text": [
      "/anaconda3/lib/python3.6/site-packages/networkx/drawing/nx_pylab.py:611: MatplotlibDeprecationWarning: isinstance(..., numbers.Number)\n",
      "  if cb.is_numlike(alpha):\n"
     ]
    },
    {
     "data": {
      "image/png": "[encoded data removed]",
      "text/plain": [
       "<Figure size 432x288 with 1 Axes>"
      ]
     },
     "metadata": {},
     "output_type": "display_data"
    },
    {
     "name": "stdout",
     "output_type": "stream",
     "text": [
      "execution time:  0.10178613662719727\n"
     ]
    },
    {
     "data": {
      "text/plain": [
       "[{'id': 0,\n",
       "  'sample': {'1c0': 0, '1c1': 1, '2c0': 1, '2c1': 0},\n",
       "  'num_occurrences': 532,\n",
       "  'energy': -2.0},\n",
       " {'id': 1,\n",
       "  'sample': {'1c0': 1, '1c1': 0, '2c0': 0, '2c1': 1},\n",
       "  'num_occurrences': 492,\n",
       "  'energy': -2.0}]"
      ]
     },
     "execution_count": 13,
     "metadata": {},
     "output_type": "execute_result"
    }
   ],
   "source": [
    "answer2 = try_k_coloring(2, \"graph2.txt\", True)\n",
    "answer2[0]"
   ]
  },
  {
   "cell_type": "markdown",
   "metadata": {},
   "source": [
    "# Test 3"
   ]
  },
  {
   "cell_type": "markdown",
   "metadata": {},
   "source": [
    "## Quantum Computer Results"
   ]
  },
  {
   "cell_type": "code",
   "execution_count": 169,
   "metadata": {},
   "outputs": [
    {
     "name": "stdout",
     "output_type": "stream",
     "text": [
      "processing  graph3.txt ... \n"
     ]
    },
    {
     "data": {
      "image/png": "[encoded data removed]",
      "text/plain": [
       "<Figure size 432x288 with 1 Axes>"
      ]
     },
     "metadata": {},
     "output_type": "display_data"
    },
    {
     "name": "stdout",
     "output_type": "stream",
     "text": [
      "execution time:  2.622627019882202\n"
     ]
    }
   ],
   "source": [
    "answer2 = try_k_coloring(1, \"graph3.txt\")"
   ]
  },
  {
   "cell_type": "code",
   "execution_count": 170,
   "metadata": {},
   "outputs": [
    {
     "data": {
      "image/png": "[encoded data removed]",
      "text/plain": [
       "<Figure size 432x288 with 1 Axes>"
      ]
     },
     "metadata": {
      "needs_background": "light"
     },
     "output_type": "display_data"
    }
   ],
   "source": [
    "plotDictionary(answer2)"
   ]
  },
  {
   "cell_type": "code",
   "execution_count": 171,
   "metadata": {},
   "outputs": [
    {
     "data": {
      "text/html": [
       "<div>\n",
       "<style scoped>\n",
       "    .dataframe tbody tr th:only-of-type {\n",
       "        vertical-align: middle;\n",
       "    }\n",
       "\n",
       "    .dataframe tbody tr th {\n",
       "        vertical-align: top;\n",
       "    }\n",
       "\n",
       "    .dataframe thead th {\n",
       "        text-align: right;\n",
       "    }\n",
       "</style>\n",
       "<table border=\"1\" class=\"dataframe\">\n",
       "  <thead>\n",
       "    <tr style=\"text-align: right;\">\n",
       "      <th></th>\n",
       "      <th>energy</th>\n",
       "      <th>id</th>\n",
       "      <th>num_occurrences</th>\n",
       "      <th>sample</th>\n",
       "    </tr>\n",
       "  </thead>\n",
       "  <tbody>\n",
       "    <tr>\n",
       "      <th>0</th>\n",
       "      <td>-3.0</td>\n",
       "      <td>0</td>\n",
       "      <td>1024</td>\n",
       "      <td>{'1c0': 1, '2c0': 1, '3c0': 1}</td>\n",
       "    </tr>\n",
       "  </tbody>\n",
       "</table>\n",
       "</div>"
      ],
      "text/plain": [
       "   energy  id  num_occurrences                          sample\n",
       "0    -3.0   0             1024  {'1c0': 1, '2c0': 1, '3c0': 1}"
      ]
     },
     "execution_count": 171,
     "metadata": {},
     "output_type": "execute_result"
    }
   ],
   "source": [
    "plot_table(answer2)"
   ]
  },
  {
   "cell_type": "code",
   "execution_count": 47,
   "metadata": {},
   "outputs": [
    {
     "data": {
      "text/plain": [
       "SampleSet(rec.array([([1, 1, 1], -3., 1024, 0.)],\n",
       "          dtype=[('sample', 'i1', (3,)), ('energy', '<f8'), ('num_occurrences', '<i8'), ('chain_break_fraction', '<f8')]), ['1c0', '2c0', '3c0'], {'timing': {'qpu_sampling_time': 167895, 'qpu_anneal_time_per_sample': 20, 'qpu_readout_time_per_sample': 123, 'qpu_access_time': 175430, 'qpu_access_overhead_time': 1707, 'qpu_programming_time': 7535, 'qpu_delay_time_per_sample': 21, 'total_post_processing_time': 3784, 'post_processing_overhead_time': 3784, 'total_real_time': 175430, 'run_time_chip': 167895, 'anneal_time_per_run': 20, 'readout_time_per_run': 123}}, 'BINARY')"
      ]
     },
     "execution_count": 47,
     "metadata": {},
     "output_type": "execute_result"
    }
   ],
   "source": [
    "answer2[1]"
   ]
  },
  {
   "cell_type": "markdown",
   "metadata": {},
   "source": [
    "## Simulator Results"
   ]
  },
  {
   "cell_type": "code",
   "execution_count": 14,
   "metadata": {},
   "outputs": [
    {
     "name": "stdout",
     "output_type": "stream",
     "text": [
      "processing  graph3.txt ... \n"
     ]
    },
    {
     "data": {
      "image/png": "[encoded data removed]",
      "text/plain": [
       "<Figure size 432x288 with 1 Axes>"
      ]
     },
     "metadata": {},
     "output_type": "display_data"
    },
    {
     "name": "stdout",
     "output_type": "stream",
     "text": [
      "execution time:  0.042475223541259766\n"
     ]
    },
    {
     "data": {
      "text/plain": [
       "[{'id': 0,\n",
       "  'sample': {'1c0': 1, '2c0': 1, '3c0': 1},\n",
       "  'num_occurrences': 1024,\n",
       "  'energy': -3.0}]"
      ]
     },
     "execution_count": 14,
     "metadata": {},
     "output_type": "execute_result"
    }
   ],
   "source": [
    "answer2 = try_k_coloring(1, \"graph3.txt\", True)\n",
    "answer2[0]"
   ]
  },
  {
   "cell_type": "markdown",
   "metadata": {},
   "source": [
    "# Test 4"
   ]
  },
  {
   "cell_type": "markdown",
   "metadata": {},
   "source": [
    "## Quantum Computer Results"
   ]
  },
  {
   "cell_type": "code",
   "execution_count": 172,
   "metadata": {},
   "outputs": [
    {
     "name": "stdout",
     "output_type": "stream",
     "text": [
      "processing  graph4.txt ... \n"
     ]
    },
    {
     "name": "stderr",
     "output_type": "stream",
     "text": [
      "/anaconda3/lib/python3.6/site-packages/networkx/drawing/nx_pylab.py:611: MatplotlibDeprecationWarning: isinstance(..., numbers.Number)\n",
      "  if cb.is_numlike(alpha):\n"
     ]
    },
    {
     "data": {
      "image/png": "[encoded data removed]",
      "text/plain": [
       "<Figure size 432x288 with 1 Axes>"
      ]
     },
     "metadata": {},
     "output_type": "display_data"
    },
    {
     "name": "stdout",
     "output_type": "stream",
     "text": [
      "execution time:  2.183976888656616\n"
     ]
    }
   ],
   "source": [
    "answer2 = try_k_coloring(2, \"graph4.txt\")"
   ]
  },
  {
   "cell_type": "code",
   "execution_count": 49,
   "metadata": {},
   "outputs": [
    {
     "data": {
      "text/plain": [
       "SampleSet(rec.array([([0, 1, 1, 0, 1, 0], -3., 242, 0.),\n",
       "           ([0, 1, 1, 0, 0, 1], -3., 228, 0.),\n",
       "           ([1, 0, 0, 1, 1, 0], -3., 289, 0.),\n",
       "           ([1, 0, 0, 1, 0, 1], -3., 262, 0.),\n",
       "           ([0, 0, 0, 1, 0, 1], -1.,   1, 0.),\n",
       "           ([1, 0, 0, 0, 0, 1], -1.,   1, 0.),\n",
       "           ([1, 0, 0, 1, 0, 0], -1.,   1, 0.)],\n",
       "          dtype=[('sample', 'i1', (6,)), ('energy', '<f8'), ('num_occurrences', '<i8'), ('chain_break_fraction', '<f8')]), ['1c0', '1c1', '2c0', '2c1', '3c0', '3c1'], {'timing': {'qpu_sampling_time': 167895, 'qpu_anneal_time_per_sample': 20, 'qpu_readout_time_per_sample': 123, 'qpu_access_time': 175436, 'qpu_access_overhead_time': 1203, 'qpu_programming_time': 7541, 'qpu_delay_time_per_sample': 21, 'total_post_processing_time': 362, 'post_processing_overhead_time': 362, 'total_real_time': 175436, 'run_time_chip': 167895, 'anneal_time_per_run': 20, 'readout_time_per_run': 123}}, 'BINARY')"
      ]
     },
     "execution_count": 49,
     "metadata": {},
     "output_type": "execute_result"
    }
   ],
   "source": [
    "answer2[1]"
   ]
  },
  {
   "cell_type": "code",
   "execution_count": 173,
   "metadata": {},
   "outputs": [
    {
     "data": {
      "image/png": "[encoded data removed]",
      "text/plain": [
       "<Figure size 432x288 with 1 Axes>"
      ]
     },
     "metadata": {
      "needs_background": "light"
     },
     "output_type": "display_data"
    }
   ],
   "source": [
    "plotDictionary(answer2)"
   ]
  },
  {
   "cell_type": "code",
   "execution_count": 175,
   "metadata": {},
   "outputs": [
    {
     "data": {
      "text/html": [
       "<div>\n",
       "<style scoped>\n",
       "    .dataframe tbody tr th:only-of-type {\n",
       "        vertical-align: middle;\n",
       "    }\n",
       "\n",
       "    .dataframe tbody tr th {\n",
       "        vertical-align: top;\n",
       "    }\n",
       "\n",
       "    .dataframe thead th {\n",
       "        text-align: right;\n",
       "    }\n",
       "</style>\n",
       "<table border=\"1\" class=\"dataframe\">\n",
       "  <thead>\n",
       "    <tr style=\"text-align: right;\">\n",
       "      <th></th>\n",
       "      <th>energy</th>\n",
       "      <th>id</th>\n",
       "      <th>num_occurrences</th>\n",
       "      <th>sample</th>\n",
       "    </tr>\n",
       "  </thead>\n",
       "  <tbody>\n",
       "    <tr>\n",
       "      <th>0</th>\n",
       "      <td>-3.0</td>\n",
       "      <td>0</td>\n",
       "      <td>175</td>\n",
       "      <td>{'1c0': 1, '1c1': 0, '2c0': 0, '2c1': 1, '3c0'...</td>\n",
       "    </tr>\n",
       "    <tr>\n",
       "      <th>1</th>\n",
       "      <td>-3.0</td>\n",
       "      <td>1</td>\n",
       "      <td>354</td>\n",
       "      <td>{'1c0': 1, '1c1': 0, '2c0': 0, '2c1': 1, '3c0'...</td>\n",
       "    </tr>\n",
       "    <tr>\n",
       "      <th>2</th>\n",
       "      <td>-3.0</td>\n",
       "      <td>2</td>\n",
       "      <td>162</td>\n",
       "      <td>{'1c0': 0, '1c1': 1, '2c0': 1, '2c1': 0, '3c0'...</td>\n",
       "    </tr>\n",
       "    <tr>\n",
       "      <th>3</th>\n",
       "      <td>-3.0</td>\n",
       "      <td>3</td>\n",
       "      <td>332</td>\n",
       "      <td>{'1c0': 0, '1c1': 1, '2c0': 1, '2c1': 0, '3c0'...</td>\n",
       "    </tr>\n",
       "    <tr>\n",
       "      <th>4</th>\n",
       "      <td>-1.0</td>\n",
       "      <td>4</td>\n",
       "      <td>1</td>\n",
       "      <td>{'1c0': 0, '1c1': 0, '2c0': 0, '2c1': 1, '3c0'...</td>\n",
       "    </tr>\n",
       "  </tbody>\n",
       "</table>\n",
       "</div>"
      ],
      "text/plain": [
       "   energy  id  num_occurrences  \\\n",
       "0    -3.0   0              175   \n",
       "1    -3.0   1              354   \n",
       "2    -3.0   2              162   \n",
       "3    -3.0   3              332   \n",
       "4    -1.0   4                1   \n",
       "\n",
       "                                              sample  \n",
       "0  {'1c0': 1, '1c1': 0, '2c0': 0, '2c1': 1, '3c0'...  \n",
       "1  {'1c0': 1, '1c1': 0, '2c0': 0, '2c1': 1, '3c0'...  \n",
       "2  {'1c0': 0, '1c1': 1, '2c0': 1, '2c1': 0, '3c0'...  \n",
       "3  {'1c0': 0, '1c1': 1, '2c0': 1, '2c1': 0, '3c0'...  \n",
       "4  {'1c0': 0, '1c1': 0, '2c0': 0, '2c1': 1, '3c0'...  "
      ]
     },
     "execution_count": 175,
     "metadata": {},
     "output_type": "execute_result"
    }
   ],
   "source": [
    "t = plot_table(answer2)\n",
    "t"
   ]
  },
  {
   "cell_type": "code",
   "execution_count": 177,
   "metadata": {},
   "outputs": [
    {
     "data": {
      "text/plain": [
       "[{'id': 0,\n",
       "  'sample': {'1c0': 1, '1c1': 0, '2c0': 0, '2c1': 1, '3c0': 1, '3c1': 0},\n",
       "  'num_occurrences': 175,\n",
       "  'energy': -3.0},\n",
       " {'id': 1,\n",
       "  'sample': {'1c0': 1, '1c1': 0, '2c0': 0, '2c1': 1, '3c0': 0, '3c1': 1},\n",
       "  'num_occurrences': 354,\n",
       "  'energy': -3.0},\n",
       " {'id': 2,\n",
       "  'sample': {'1c0': 0, '1c1': 1, '2c0': 1, '2c1': 0, '3c0': 1, '3c1': 0},\n",
       "  'num_occurrences': 162,\n",
       "  'energy': -3.0},\n",
       " {'id': 3,\n",
       "  'sample': {'1c0': 0, '1c1': 1, '2c0': 1, '2c1': 0, '3c0': 0, '3c1': 1},\n",
       "  'num_occurrences': 332,\n",
       "  'energy': -3.0},\n",
       " {'id': 4,\n",
       "  'sample': {'1c0': 0, '1c1': 0, '2c0': 0, '2c1': 1, '3c0': 0, '3c1': 1},\n",
       "  'num_occurrences': 1,\n",
       "  'energy': -1.0}]"
      ]
     },
     "execution_count": 177,
     "metadata": {},
     "output_type": "execute_result"
    }
   ],
   "source": [
    "answer2"
   ]
  },
  {
   "cell_type": "markdown",
   "metadata": {},
   "source": [
    "## Simulator Results"
   ]
  },
  {
   "cell_type": "code",
   "execution_count": 15,
   "metadata": {},
   "outputs": [
    {
     "name": "stdout",
     "output_type": "stream",
     "text": [
      "processing  graph4.txt ... \n"
     ]
    },
    {
     "data": {
      "image/png": "[encoded data removed]",
      "text/plain": [
       "<Figure size 432x288 with 1 Axes>"
      ]
     },
     "metadata": {},
     "output_type": "display_data"
    },
    {
     "name": "stdout",
     "output_type": "stream",
     "text": [
      "execution time:  0.08333897590637207\n"
     ]
    },
    {
     "data": {
      "text/plain": [
       "[{'id': 0,\n",
       "  'sample': {'1c0': 1, '1c1': 0, '2c0': 0, '2c1': 1, '3c0': 0, '3c1': 1},\n",
       "  'num_occurrences': 276,\n",
       "  'energy': -3.0},\n",
       " {'id': 1,\n",
       "  'sample': {'1c0': 0, '1c1': 1, '2c0': 1, '2c1': 0, '3c0': 1, '3c1': 0},\n",
       "  'num_occurrences': 252,\n",
       "  'energy': -3.0},\n",
       " {'id': 2,\n",
       "  'sample': {'1c0': 0, '1c1': 1, '2c0': 1, '2c1': 0, '3c0': 0, '3c1': 1},\n",
       "  'num_occurrences': 248,\n",
       "  'energy': -3.0},\n",
       " {'id': 3,\n",
       "  'sample': {'1c0': 1, '1c1': 0, '2c0': 0, '2c1': 1, '3c0': 1, '3c1': 0},\n",
       "  'num_occurrences': 248,\n",
       "  'energy': -3.0}]"
      ]
     },
     "execution_count": 15,
     "metadata": {},
     "output_type": "execute_result"
    }
   ],
   "source": [
    "answer2 = try_k_coloring(2, \"graph4.txt\", True)\n",
    "answer2[0]"
   ]
  },
  {
   "cell_type": "markdown",
   "metadata": {},
   "source": [
    "# Test 5"
   ]
  },
  {
   "cell_type": "markdown",
   "metadata": {},
   "source": [
    "## Quantum Computer Results"
   ]
  },
  {
   "cell_type": "code",
   "execution_count": 178,
   "metadata": {},
   "outputs": [
    {
     "name": "stdout",
     "output_type": "stream",
     "text": [
      "processing  graph5.txt ... \n"
     ]
    },
    {
     "name": "stderr",
     "output_type": "stream",
     "text": [
      "/anaconda3/lib/python3.6/site-packages/networkx/drawing/nx_pylab.py:611: MatplotlibDeprecationWarning: isinstance(..., numbers.Number)\n",
      "  if cb.is_numlike(alpha):\n"
     ]
    },
    {
     "data": {
      "image/png": "[encoded data removed]",
      "text/plain": [
       "<Figure size 432x288 with 1 Axes>"
      ]
     },
     "metadata": {},
     "output_type": "display_data"
    },
    {
     "name": "stdout",
     "output_type": "stream",
     "text": [
      "execution time:  2.1911280155181885\n"
     ]
    }
   ],
   "source": [
    "answer2 = try_k_coloring(2, \"graph5.txt\")"
   ]
  },
  {
   "cell_type": "code",
   "execution_count": 52,
   "metadata": {},
   "outputs": [
    {
     "data": {
      "text/plain": [
       "SampleSet(rec.array([([1, 0, 0, 1, 0, 1], -3., 508, 0.),\n",
       "           ([0, 1, 1, 0, 1, 0], -3., 515, 0.),\n",
       "           ([0, 1, 1, 0, 0, 0], -1.,   1, 0.)],\n",
       "          dtype=[('sample', 'i1', (6,)), ('energy', '<f8'), ('num_occurrences', '<i8'), ('chain_break_fraction', '<f8')]), ['1c0', '1c1', '2c0', '2c1', '3c0', '3c1'], {'timing': {'qpu_sampling_time': 167895, 'qpu_anneal_time_per_sample': 20, 'qpu_readout_time_per_sample': 123, 'qpu_access_time': 175432, 'qpu_access_overhead_time': 1993, 'qpu_programming_time': 7537, 'qpu_delay_time_per_sample': 21, 'total_post_processing_time': 2011, 'post_processing_overhead_time': 2011, 'total_real_time': 175432, 'run_time_chip': 167895, 'anneal_time_per_run': 20, 'readout_time_per_run': 123}}, 'BINARY')"
      ]
     },
     "execution_count": 52,
     "metadata": {},
     "output_type": "execute_result"
    }
   ],
   "source": [
    "answer2[1]"
   ]
  },
  {
   "cell_type": "code",
   "execution_count": 179,
   "metadata": {},
   "outputs": [
    {
     "data": {
      "image/png": "[encoded data removed]",
      "text/plain": [
       "<Figure size 432x288 with 1 Axes>"
      ]
     },
     "metadata": {
      "needs_background": "light"
     },
     "output_type": "display_data"
    }
   ],
   "source": [
    "plotDictionary(answer2)"
   ]
  },
  {
   "cell_type": "code",
   "execution_count": 180,
   "metadata": {},
   "outputs": [
    {
     "data": {
      "text/html": [
       "<div>\n",
       "<style scoped>\n",
       "    .dataframe tbody tr th:only-of-type {\n",
       "        vertical-align: middle;\n",
       "    }\n",
       "\n",
       "    .dataframe tbody tr th {\n",
       "        vertical-align: top;\n",
       "    }\n",
       "\n",
       "    .dataframe thead th {\n",
       "        text-align: right;\n",
       "    }\n",
       "</style>\n",
       "<table border=\"1\" class=\"dataframe\">\n",
       "  <thead>\n",
       "    <tr style=\"text-align: right;\">\n",
       "      <th></th>\n",
       "      <th>energy</th>\n",
       "      <th>id</th>\n",
       "      <th>num_occurrences</th>\n",
       "      <th>sample</th>\n",
       "    </tr>\n",
       "  </thead>\n",
       "  <tbody>\n",
       "    <tr>\n",
       "      <th>0</th>\n",
       "      <td>-3.0</td>\n",
       "      <td>0</td>\n",
       "      <td>426</td>\n",
       "      <td>{'1c0': 0, '1c1': 1, '2c0': 1, '2c1': 0, '3c0'...</td>\n",
       "    </tr>\n",
       "    <tr>\n",
       "      <th>1</th>\n",
       "      <td>-3.0</td>\n",
       "      <td>1</td>\n",
       "      <td>593</td>\n",
       "      <td>{'1c0': 1, '1c1': 0, '2c0': 0, '2c1': 1, '3c0'...</td>\n",
       "    </tr>\n",
       "    <tr>\n",
       "      <th>2</th>\n",
       "      <td>-1.0</td>\n",
       "      <td>2</td>\n",
       "      <td>2</td>\n",
       "      <td>{'1c0': 0, '1c1': 0, '2c0': 0, '2c1': 1, '3c0'...</td>\n",
       "    </tr>\n",
       "    <tr>\n",
       "      <th>3</th>\n",
       "      <td>-1.0</td>\n",
       "      <td>3</td>\n",
       "      <td>1</td>\n",
       "      <td>{'1c0': 1, '1c1': 0, '2c0': 0, '2c1': 0, '3c0'...</td>\n",
       "    </tr>\n",
       "    <tr>\n",
       "      <th>4</th>\n",
       "      <td>-1.0</td>\n",
       "      <td>4</td>\n",
       "      <td>1</td>\n",
       "      <td>{'1c0': 0, '1c1': 1, '2c0': 1, '2c1': 0, '3c0'...</td>\n",
       "    </tr>\n",
       "    <tr>\n",
       "      <th>5</th>\n",
       "      <td>-1.0</td>\n",
       "      <td>5</td>\n",
       "      <td>1</td>\n",
       "      <td>{'1c0': 0, '1c1': 0, '2c0': 1, '2c1': 0, '3c0'...</td>\n",
       "    </tr>\n",
       "  </tbody>\n",
       "</table>\n",
       "</div>"
      ],
      "text/plain": [
       "   energy  id  num_occurrences  \\\n",
       "0    -3.0   0              426   \n",
       "1    -3.0   1              593   \n",
       "2    -1.0   2                2   \n",
       "3    -1.0   3                1   \n",
       "4    -1.0   4                1   \n",
       "5    -1.0   5                1   \n",
       "\n",
       "                                              sample  \n",
       "0  {'1c0': 0, '1c1': 1, '2c0': 1, '2c1': 0, '3c0'...  \n",
       "1  {'1c0': 1, '1c1': 0, '2c0': 0, '2c1': 1, '3c0'...  \n",
       "2  {'1c0': 0, '1c1': 0, '2c0': 0, '2c1': 1, '3c0'...  \n",
       "3  {'1c0': 1, '1c1': 0, '2c0': 0, '2c1': 0, '3c0'...  \n",
       "4  {'1c0': 0, '1c1': 1, '2c0': 1, '2c1': 0, '3c0'...  \n",
       "5  {'1c0': 0, '1c1': 0, '2c0': 1, '2c1': 0, '3c0'...  "
      ]
     },
     "execution_count": 180,
     "metadata": {},
     "output_type": "execute_result"
    }
   ],
   "source": [
    "t = plot_table(answer2)\n",
    "t"
   ]
  },
  {
   "cell_type": "markdown",
   "metadata": {},
   "source": [
    "## Simulator Results"
   ]
  },
  {
   "cell_type": "code",
   "execution_count": 21,
   "metadata": {},
   "outputs": [
    {
     "name": "stdout",
     "output_type": "stream",
     "text": [
      "processing  graph5.txt ... \n"
     ]
    },
    {
     "data": {
      "image/png": "[encoded data removed]",
      "text/plain": [
       "<Figure size 432x288 with 1 Axes>"
      ]
     },
     "metadata": {},
     "output_type": "display_data"
    },
    {
     "name": "stdout",
     "output_type": "stream",
     "text": [
      "execution time:  0.08876180648803711\n"
     ]
    },
    {
     "data": {
      "text/plain": [
       "[{'id': 0,\n",
       "  'sample': {'1c0': 1, '1c1': 0, '2c0': 0, '2c1': 1, '3c0': 0, '3c1': 1},\n",
       "  'num_occurrences': 524,\n",
       "  'energy': -3.0},\n",
       " {'id': 1,\n",
       "  'sample': {'1c0': 0, '1c1': 1, '2c0': 1, '2c1': 0, '3c0': 1, '3c1': 0},\n",
       "  'num_occurrences': 500,\n",
       "  'energy': -3.0}]"
      ]
     },
     "execution_count": 21,
     "metadata": {},
     "output_type": "execute_result"
    }
   ],
   "source": [
    "answer2 = try_k_coloring(2, \"graph5.txt\", True)\n",
    "answer2[0]"
   ]
  },
  {
   "cell_type": "markdown",
   "metadata": {},
   "source": [
    "# Test 6"
   ]
  },
  {
   "cell_type": "markdown",
   "metadata": {},
   "source": [
    "## Quantum Computer Results"
   ]
  },
  {
   "cell_type": "code",
   "execution_count": 8,
   "metadata": {},
   "outputs": [
    {
     "name": "stdout",
     "output_type": "stream",
     "text": [
      "processing  graph6.txt ... \n"
     ]
    },
    {
     "name": "stderr",
     "output_type": "stream",
     "text": [
      "/anaconda3/lib/python3.6/site-packages/networkx/drawing/nx_pylab.py:611: MatplotlibDeprecationWarning: isinstance(..., numbers.Number)\n",
      "  if cb.is_numlike(alpha):\n"
     ]
    },
    {
     "data": {
      "image/png": "[encoded data removed]",
      "text/plain": [
       "<Figure size 432x288 with 1 Axes>"
      ]
     },
     "metadata": {},
     "output_type": "display_data"
    },
    {
     "name": "stdout",
     "output_type": "stream",
     "text": [
      "execution time:  2.4530370235443115\n"
     ]
    }
   ],
   "source": [
    "answer2 = try_k_coloring(2, \"graph6.txt\")"
   ]
  },
  {
   "cell_type": "code",
   "execution_count": 55,
   "metadata": {},
   "outputs": [
    {
     "data": {
      "text/plain": [
       "SampleSet(rec.array([([1, 0, 0, 1, 0, 1, 1, 0], -4., 127, 0.),\n",
       "           ([1, 0, 0, 1, 1, 0, 0, 1], -4.,  63, 0.),\n",
       "           ([0, 1, 1, 0, 0, 1, 0, 1], -4., 107, 0.),\n",
       "           ([1, 0, 0, 1, 0, 1, 0, 1], -4.,  46, 0.),\n",
       "           ([0, 1, 1, 0, 1, 0, 1, 0], -4., 206, 0.),\n",
       "           ([0, 1, 1, 0, 0, 1, 1, 0], -4., 215, 0.),\n",
       "           ([1, 0, 0, 1, 1, 0, 1, 0], -4., 120, 0.),\n",
       "           ([0, 1, 1, 0, 1, 0, 0, 1], -4., 137, 0.),\n",
       "           ([1, 0, 1, 0, 0, 1, 0, 1], -2.,   1, 0.),\n",
       "           ([0, 0, 1, 0, 1, 0, 0, 1], -2.,   1, 0.),\n",
       "           ([0, 1, 0, 0, 1, 0, 1, 0], -2.,   1, 0.)],\n",
       "          dtype=[('sample', 'i1', (8,)), ('energy', '<f8'), ('num_occurrences', '<i8'), ('chain_break_fraction', '<f8')]), ['1c0', '1c1', '2c0', '2c1', '3c0', '3c1', '4c0', '4c1'], {'timing': {'qpu_sampling_time': 167895, 'qpu_anneal_time_per_sample': 20, 'qpu_readout_time_per_sample': 123, 'qpu_access_time': 175433, 'qpu_access_overhead_time': 1373, 'qpu_programming_time': 7538, 'qpu_delay_time_per_sample': 21, 'total_post_processing_time': 328, 'post_processing_overhead_time': 328, 'total_real_time': 175433, 'run_time_chip': 167895, 'anneal_time_per_run': 20, 'readout_time_per_run': 123}}, 'BINARY')"
      ]
     },
     "execution_count": 55,
     "metadata": {},
     "output_type": "execute_result"
    }
   ],
   "source": [
    "answer2[1]"
   ]
  },
  {
   "cell_type": "code",
   "execution_count": 15,
   "metadata": {},
   "outputs": [
    {
     "data": {
      "image/png": "[encoded data removed]",
      "text/plain": [
       "<Figure size 432x288 with 1 Axes>"
      ]
     },
     "metadata": {
      "needs_background": "light"
     },
     "output_type": "display_data"
    }
   ],
   "source": [
    "plotDictionary(answer2[0])"
   ]
  },
  {
   "cell_type": "code",
   "execution_count": 16,
   "metadata": {},
   "outputs": [
    {
     "data": {
      "text/html": [
       "<div>\n",
       "<style scoped>\n",
       "    .dataframe tbody tr th:only-of-type {\n",
       "        vertical-align: middle;\n",
       "    }\n",
       "\n",
       "    .dataframe tbody tr th {\n",
       "        vertical-align: top;\n",
       "    }\n",
       "\n",
       "    .dataframe thead th {\n",
       "        text-align: right;\n",
       "    }\n",
       "</style>\n",
       "<table border=\"1\" class=\"dataframe\">\n",
       "  <thead>\n",
       "    <tr style=\"text-align: right;\">\n",
       "      <th></th>\n",
       "      <th>energy</th>\n",
       "      <th>id</th>\n",
       "      <th>num_occurrences</th>\n",
       "      <th>sample</th>\n",
       "    </tr>\n",
       "  </thead>\n",
       "  <tbody>\n",
       "    <tr>\n",
       "      <th>0</th>\n",
       "      <td>-4.0</td>\n",
       "      <td>0</td>\n",
       "      <td>229</td>\n",
       "      <td>{'1c0': 1, '1c1': 0, '2c0': 0, '2c1': 1, '3c0'...</td>\n",
       "    </tr>\n",
       "    <tr>\n",
       "      <th>1</th>\n",
       "      <td>-4.0</td>\n",
       "      <td>1</td>\n",
       "      <td>115</td>\n",
       "      <td>{'1c0': 0, '1c1': 1, '2c0': 1, '2c1': 0, '3c0'...</td>\n",
       "    </tr>\n",
       "    <tr>\n",
       "      <th>2</th>\n",
       "      <td>-4.0</td>\n",
       "      <td>2</td>\n",
       "      <td>72</td>\n",
       "      <td>{'1c0': 0, '1c1': 1, '2c0': 1, '2c1': 0, '3c0'...</td>\n",
       "    </tr>\n",
       "    <tr>\n",
       "      <th>3</th>\n",
       "      <td>-4.0</td>\n",
       "      <td>3</td>\n",
       "      <td>106</td>\n",
       "      <td>{'1c0': 1, '1c1': 0, '2c0': 0, '2c1': 1, '3c0'...</td>\n",
       "    </tr>\n",
       "    <tr>\n",
       "      <th>4</th>\n",
       "      <td>-4.0</td>\n",
       "      <td>4</td>\n",
       "      <td>170</td>\n",
       "      <td>{'1c0': 1, '1c1': 0, '2c0': 0, '2c1': 1, '3c0'...</td>\n",
       "    </tr>\n",
       "    <tr>\n",
       "      <th>5</th>\n",
       "      <td>-4.0</td>\n",
       "      <td>5</td>\n",
       "      <td>120</td>\n",
       "      <td>{'1c0': 1, '1c1': 0, '2c0': 0, '2c1': 1, '3c0'...</td>\n",
       "    </tr>\n",
       "    <tr>\n",
       "      <th>6</th>\n",
       "      <td>-4.0</td>\n",
       "      <td>6</td>\n",
       "      <td>146</td>\n",
       "      <td>{'1c0': 0, '1c1': 1, '2c0': 1, '2c1': 0, '3c0'...</td>\n",
       "    </tr>\n",
       "    <tr>\n",
       "      <th>7</th>\n",
       "      <td>-4.0</td>\n",
       "      <td>7</td>\n",
       "      <td>64</td>\n",
       "      <td>{'1c0': 0, '1c1': 1, '2c0': 1, '2c1': 0, '3c0'...</td>\n",
       "    </tr>\n",
       "    <tr>\n",
       "      <th>8</th>\n",
       "      <td>-2.0</td>\n",
       "      <td>8</td>\n",
       "      <td>1</td>\n",
       "      <td>{'1c0': 0, '1c1': 1, '2c0': 0, '2c1': 1, '3c0'...</td>\n",
       "    </tr>\n",
       "    <tr>\n",
       "      <th>9</th>\n",
       "      <td>-2.0</td>\n",
       "      <td>9</td>\n",
       "      <td>1</td>\n",
       "      <td>{'1c0': 0, '1c1': 1, '2c0': 0, '2c1': 1, '3c0'...</td>\n",
       "    </tr>\n",
       "  </tbody>\n",
       "</table>\n",
       "</div>"
      ],
      "text/plain": [
       "   energy  id  num_occurrences  \\\n",
       "0    -4.0   0              229   \n",
       "1    -4.0   1              115   \n",
       "2    -4.0   2               72   \n",
       "3    -4.0   3              106   \n",
       "4    -4.0   4              170   \n",
       "5    -4.0   5              120   \n",
       "6    -4.0   6              146   \n",
       "7    -4.0   7               64   \n",
       "8    -2.0   8                1   \n",
       "9    -2.0   9                1   \n",
       "\n",
       "                                              sample  \n",
       "0  {'1c0': 1, '1c1': 0, '2c0': 0, '2c1': 1, '3c0'...  \n",
       "1  {'1c0': 0, '1c1': 1, '2c0': 1, '2c1': 0, '3c0'...  \n",
       "2  {'1c0': 0, '1c1': 1, '2c0': 1, '2c1': 0, '3c0'...  \n",
       "3  {'1c0': 1, '1c1': 0, '2c0': 0, '2c1': 1, '3c0'...  \n",
       "4  {'1c0': 1, '1c1': 0, '2c0': 0, '2c1': 1, '3c0'...  \n",
       "5  {'1c0': 1, '1c1': 0, '2c0': 0, '2c1': 1, '3c0'...  \n",
       "6  {'1c0': 0, '1c1': 1, '2c0': 1, '2c1': 0, '3c0'...  \n",
       "7  {'1c0': 0, '1c1': 1, '2c0': 1, '2c1': 0, '3c0'...  \n",
       "8  {'1c0': 0, '1c1': 1, '2c0': 0, '2c1': 1, '3c0'...  \n",
       "9  {'1c0': 0, '1c1': 1, '2c0': 0, '2c1': 1, '3c0'...  "
      ]
     },
     "execution_count": 16,
     "metadata": {},
     "output_type": "execute_result"
    }
   ],
   "source": [
    "t = plot_table(answer2[0])\n",
    "t"
   ]
  },
  {
   "cell_type": "markdown",
   "metadata": {},
   "source": [
    "## Simulator Results"
   ]
  },
  {
   "cell_type": "markdown",
   "metadata": {},
   "source": [
    "# Test 7"
   ]
  },
  {
   "cell_type": "markdown",
   "metadata": {},
   "source": [
    "## Quantum Computer Results"
   ]
  },
  {
   "cell_type": "code",
   "execution_count": 56,
   "metadata": {},
   "outputs": [
    {
     "name": "stdout",
     "output_type": "stream",
     "text": [
      "processing  graph.txt ... \n"
     ]
    },
    {
     "name": "stderr",
     "output_type": "stream",
     "text": [
      "/anaconda3/lib/python3.6/site-packages/networkx/drawing/nx_pylab.py:611: MatplotlibDeprecationWarning: isinstance(..., numbers.Number)\n",
      "  if cb.is_numlike(alpha):\n"
     ]
    },
    {
     "data": {
      "image/png": "[encoded data removed]",
      "text/plain": [
       "<Figure size 432x288 with 1 Axes>"
      ]
     },
     "metadata": {},
     "output_type": "display_data"
    },
    {
     "name": "stdout",
     "output_type": "stream",
     "text": [
      "execution time:  3.508519172668457\n"
     ]
    }
   ],
   "source": [
    "answer2 = try_k_coloring(4, \"graph.txt\")"
   ]
  },
  {
   "cell_type": "code",
   "execution_count": 58,
   "metadata": {
    "scrolled": true
   },
   "outputs": [
    {
     "data": {
      "image/png": "[encoded data removed]",
      "text/plain": [
       "<Figure size 432x288 with 1 Axes>"
      ]
     },
     "metadata": {
      "needs_background": "light"
     },
     "output_type": "display_data"
    }
   ],
   "source": [
    "plotDictionary(answer2[0])"
   ]
  },
  {
   "cell_type": "markdown",
   "metadata": {},
   "source": [
    "## Simulator Results"
   ]
  },
  {
   "cell_type": "code",
   "execution_count": 23,
   "metadata": {},
   "outputs": [
    {
     "name": "stdout",
     "output_type": "stream",
     "text": [
      "processing  graph.txt ... \n"
     ]
    },
    {
     "data": {
      "image/png": "[encoded data removed]",
      "text/plain": [
       "<Figure size 432x288 with 1 Axes>"
      ]
     },
     "metadata": {},
     "output_type": "display_data"
    },
    {
     "name": "stdout",
     "output_type": "stream",
     "text": [
      "execution time:  0.6892199516296387\n"
     ]
    },
    {
     "data": {
      "image/png": "[encoded data removed]",
      "text/plain": [
       "<Figure size 432x288 with 1 Axes>"
      ]
     },
     "metadata": {
      "needs_background": "light"
     },
     "output_type": "display_data"
    }
   ],
   "source": [
    "answer2 = try_k_coloring(4, \"graph.txt\", True)\n"
   ]
  },
  {
   "cell_type": "code",
   "execution_count": null,
   "metadata": {},
   "outputs": [],
   "source": []
  }
 ],
 "metadata": {
  "kernelspec": {
   "display_name": "Python 3",
   "language": "python",
   "name": "python3"
  },
  "language_info": {
   "codemirror_mode": {
    "name": "ipython",
    "version": 3
   },
   "file_extension": ".py",
   "mimetype": "text/x-python",
   "name": "python",
   "nbconvert_exporter": "python",
   "pygments_lexer": "ipython3",
   "version": "3.6.7"
  }
 },
 "nbformat": 4,
 "nbformat_minor": 2
}
